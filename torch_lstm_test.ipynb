{
 "cells": [
  {
   "cell_type": "code",
   "execution_count": 255,
   "metadata": {},
   "outputs": [],
   "source": [
    "import numpy as np # type: ignore\n",
    "import pandas as pd # type: ignore\n",
    "import matplotlib.pyplot as plt # type: ignore\n",
    "import yfinance as yf # type: ignore\n",
    "\n",
    "import torch\n",
    "from torch.utils.data import Dataset, DataLoader\n",
    "import torch.nn as nn\n",
    "import torch.optim as optim"
   ]
  },
  {
   "cell_type": "markdown",
   "metadata": {},
   "source": [
    "# Load financial data"
   ]
  },
  {
   "cell_type": "code",
   "execution_count": 256,
   "metadata": {},
   "outputs": [
    {
     "name": "stderr",
     "output_type": "stream",
     "text": [
      "[*********************100%***********************]  1 of 1 completed\n"
     ]
    }
   ],
   "source": [
    "data = yf.download('AAPL')"
   ]
  },
  {
   "cell_type": "code",
   "execution_count": 257,
   "metadata": {},
   "outputs": [
    {
     "data": {
      "text/html": [
       "<div>\n",
       "<style scoped>\n",
       "    .dataframe tbody tr th:only-of-type {\n",
       "        vertical-align: middle;\n",
       "    }\n",
       "\n",
       "    .dataframe tbody tr th {\n",
       "        vertical-align: top;\n",
       "    }\n",
       "\n",
       "    .dataframe thead tr th {\n",
       "        text-align: left;\n",
       "    }\n",
       "\n",
       "    .dataframe thead tr:last-of-type th {\n",
       "        text-align: right;\n",
       "    }\n",
       "</style>\n",
       "<table border=\"1\" class=\"dataframe\">\n",
       "  <thead>\n",
       "    <tr>\n",
       "      <th>Price</th>\n",
       "      <th>Adj Close</th>\n",
       "      <th>Close</th>\n",
       "      <th>High</th>\n",
       "      <th>Low</th>\n",
       "      <th>Open</th>\n",
       "      <th>Volume</th>\n",
       "    </tr>\n",
       "    <tr>\n",
       "      <th>Ticker</th>\n",
       "      <th>AAPL</th>\n",
       "      <th>AAPL</th>\n",
       "      <th>AAPL</th>\n",
       "      <th>AAPL</th>\n",
       "      <th>AAPL</th>\n",
       "      <th>AAPL</th>\n",
       "    </tr>\n",
       "    <tr>\n",
       "      <th>Date</th>\n",
       "      <th></th>\n",
       "      <th></th>\n",
       "      <th></th>\n",
       "      <th></th>\n",
       "      <th></th>\n",
       "      <th></th>\n",
       "    </tr>\n",
       "  </thead>\n",
       "  <tbody>\n",
       "    <tr>\n",
       "      <th>1980-12-12</th>\n",
       "      <td>0.098834</td>\n",
       "      <td>0.128348</td>\n",
       "      <td>0.128906</td>\n",
       "      <td>0.128348</td>\n",
       "      <td>0.128348</td>\n",
       "      <td>469033600</td>\n",
       "    </tr>\n",
       "    <tr>\n",
       "      <th>1980-12-15</th>\n",
       "      <td>0.093678</td>\n",
       "      <td>0.121652</td>\n",
       "      <td>0.122210</td>\n",
       "      <td>0.121652</td>\n",
       "      <td>0.122210</td>\n",
       "      <td>175884800</td>\n",
       "    </tr>\n",
       "    <tr>\n",
       "      <th>1980-12-16</th>\n",
       "      <td>0.086802</td>\n",
       "      <td>0.112723</td>\n",
       "      <td>0.113281</td>\n",
       "      <td>0.112723</td>\n",
       "      <td>0.113281</td>\n",
       "      <td>105728000</td>\n",
       "    </tr>\n",
       "    <tr>\n",
       "      <th>1980-12-17</th>\n",
       "      <td>0.088951</td>\n",
       "      <td>0.115513</td>\n",
       "      <td>0.116071</td>\n",
       "      <td>0.115513</td>\n",
       "      <td>0.115513</td>\n",
       "      <td>86441600</td>\n",
       "    </tr>\n",
       "    <tr>\n",
       "      <th>1980-12-18</th>\n",
       "      <td>0.091530</td>\n",
       "      <td>0.118862</td>\n",
       "      <td>0.119420</td>\n",
       "      <td>0.118862</td>\n",
       "      <td>0.118862</td>\n",
       "      <td>73449600</td>\n",
       "    </tr>\n",
       "  </tbody>\n",
       "</table>\n",
       "</div>"
      ],
      "text/plain": [
       "Price      Adj Close     Close      High       Low      Open     Volume\n",
       "Ticker          AAPL      AAPL      AAPL      AAPL      AAPL       AAPL\n",
       "Date                                                                   \n",
       "1980-12-12  0.098834  0.128348  0.128906  0.128348  0.128348  469033600\n",
       "1980-12-15  0.093678  0.121652  0.122210  0.121652  0.122210  175884800\n",
       "1980-12-16  0.086802  0.112723  0.113281  0.112723  0.113281  105728000\n",
       "1980-12-17  0.088951  0.115513  0.116071  0.115513  0.115513   86441600\n",
       "1980-12-18  0.091530  0.118862  0.119420  0.118862  0.118862   73449600"
      ]
     },
     "execution_count": 257,
     "metadata": {},
     "output_type": "execute_result"
    }
   ],
   "source": [
    "data.head()"
   ]
  },
  {
   "cell_type": "code",
   "execution_count": 258,
   "metadata": {},
   "outputs": [
    {
     "data": {
      "text/plain": [
       "(11094, 6)"
      ]
     },
     "execution_count": 258,
     "metadata": {},
     "output_type": "execute_result"
    }
   ],
   "source": [
    "X = data.to_numpy()\n",
    "X.shape"
   ]
  },
  {
   "cell_type": "code",
   "execution_count": 259,
   "metadata": {},
   "outputs": [],
   "source": [
    "def create_sequence(data: np.ndarray, seq_len: int = 8, target_sequence: bool = False) -> tuple[np.ndarray, np.ndarray]:\n",
    "    X = []\n",
    "    y = []\n",
    "    for i in range(len(data) - seq_len - 1):\n",
    "        X.append(data[i:i+seq_len])\n",
    "        if target_sequence:\n",
    "            y.append(data[(i+1):(i+1+seq_len)])\n",
    "        else:\n",
    "            y.append(data[i+seq_len])\n",
    "    return np.array(X), np.array(y)"
   ]
  },
  {
   "cell_type": "markdown",
   "metadata": {},
   "source": [
    "# Split and scale"
   ]
  },
  {
   "cell_type": "code",
   "execution_count": 260,
   "metadata": {},
   "outputs": [
    {
     "name": "stdout",
     "output_type": "stream",
     "text": [
      "Train: (8875, 6), Test: (2219, 6)\n"
     ]
    }
   ],
   "source": [
    "from sklearn.model_selection import train_test_split\n",
    "from sklearn.preprocessing import StandardScaler, MinMaxScaler\n",
    "\n",
    "scaler_X = StandardScaler()\n",
    "#scaler_X = MinMaxScaler(feature_range=(0, 1))\n",
    "\n",
    "X_train, X_test = train_test_split(X, test_size=0.2)\n",
    "\n",
    "X_train = scaler_X.fit_transform(X_train)\n",
    "X_test = scaler_X.transform(X_test)\n",
    "\n",
    "print(f'Train: {X_train.shape}, Test: {X_test.shape}')"
   ]
  },
  {
   "cell_type": "markdown",
   "metadata": {},
   "source": [
    "# Create sequences"
   ]
  },
  {
   "cell_type": "code",
   "execution_count": 261,
   "metadata": {},
   "outputs": [
    {
     "name": "stdout",
     "output_type": "stream",
     "text": [
      "X, y_train: (8864, 10, 6) (8864, 6)\n",
      "X, y_test: (2211, 7, 6) (2211, 6)\n"
     ]
    }
   ],
   "source": [
    "X_train, y_train = create_sequence(X_train, seq_len=10)\n",
    "X_test, y_test = create_sequence(X_test, seq_len=7)\n",
    "\n",
    "print(f'X, y_train: {X_train.shape} {y_train.shape}')\n",
    "print(f'X, y_test: {X_test.shape} {y_test.shape}')"
   ]
  },
  {
   "cell_type": "code",
   "execution_count": 262,
   "metadata": {},
   "outputs": [],
   "source": [
    "#y_train, y_test = y_train.reshape(-1, 1, 6), y_test.reshape(-1, 1, 6)\n",
    "#print(f'y_train, y_test: {y_train.shape}, {y_test.shape}')"
   ]
  },
  {
   "cell_type": "markdown",
   "metadata": {},
   "source": [
    "# Custom dataset"
   ]
  },
  {
   "cell_type": "code",
   "execution_count": 263,
   "metadata": {},
   "outputs": [],
   "source": [
    "class StockDataset(Dataset):\n",
    "\n",
    "    def __init__(self, data, targets):\n",
    "        self.data = data\n",
    "        self.targets = targets\n",
    "\n",
    "    def __len__(self):\n",
    "        \"\"\"\n",
    "        Returns the number of samples in the dataset.\n",
    "        \"\"\"\n",
    "        return len(self.data)\n",
    "\n",
    "    def __getitem__(self, idx):\n",
    "        \"\"\"\n",
    "        Retrieves the data and label at the given index.\n",
    "        \n",
    "        Args:\n",
    "            idx (int): The index of the sample to retrieve.\n",
    "        \n",
    "        Returns:\n",
    "            tuple: (data, label)\n",
    "        \"\"\"\n",
    "        sample = self.data[idx]\n",
    "        target = self.targets[idx]\n",
    "        return sample, target"
   ]
  },
  {
   "cell_type": "markdown",
   "metadata": {},
   "source": [
    "# Data preparation"
   ]
  },
  {
   "cell_type": "code",
   "execution_count": 264,
   "metadata": {},
   "outputs": [],
   "source": [
    "device = 'cuda' if torch.cuda.is_available() else 'cpu'\n",
    "\n",
    "X_train, X_test, y_train, y_test = torch.Tensor(X_train), torch.Tensor(X_test), torch.Tensor(y_train), torch.Tensor(y_test)\n",
    "X_train, X_test, y_train, y_test = X_train.to(device), X_test.to(device), y_train.to(device), y_test.to(device)"
   ]
  },
  {
   "cell_type": "code",
   "execution_count": 265,
   "metadata": {},
   "outputs": [],
   "source": [
    "batch_size = 64\n",
    "\n",
    "dataset_train = StockDataset(X_train, y_train)\n",
    "dataloader_train = DataLoader(dataset_train, batch_size=batch_size, shuffle=False)\n",
    "\n",
    "dataset_test = StockDataset(X_test, y_test)\n",
    "dataloader_test = DataLoader(dataset_test, batch_size=batch_size, shuffle=False)"
   ]
  },
  {
   "cell_type": "code",
   "execution_count": 266,
   "metadata": {},
   "outputs": [],
   "source": [
    "class LSTMModel(nn.Module):\n",
    "    def __init__(self, input_dim, hidden_dim, output_dim, num_layers=6, dropout=0.1):\n",
    "        super(LSTMModel, self).__init__()\n",
    "\n",
    "        self.num_layers = num_layers\n",
    "        self.hidden_dim = hidden_dim\n",
    "        \n",
    "        # Define the Transformer model\n",
    "        self.lstm = nn.LSTM(input_size=input_dim, \n",
    "                            hidden_size=hidden_dim, \n",
    "                            num_layers=num_layers, \n",
    "                            dropout=dropout,\n",
    "                            batch_first=True)\n",
    "        \n",
    "        # Output layer (linear transformation from hidden_dim to output_dim)\n",
    "        self.fc_out = nn.Linear(hidden_dim, output_dim)\n",
    "\n",
    "    def forward(self, x):\n",
    "        h_0 = torch.zeros(\n",
    "            self.num_layers, x.size(0), self.hidden_dim).to(device)\n",
    "        c_0 = torch.zeros(\n",
    "            self.num_layers, x.size(0), self.hidden_dim).to(device)\n",
    "        \n",
    "        # Propagate input through LSTM\n",
    "        ula, (h_out, _) = self.lstm(x, (h_0, c_0))\n",
    "        #print(f'hout: {h_out.shape}')\n",
    "        h_out = h_out[-1, :, :]#h_out.view(-1, self.hidden_dim)\n",
    "        out = self.fc_out(h_out)\n",
    "        \n",
    "        return out"
   ]
  },
  {
   "cell_type": "code",
   "execution_count": 267,
   "metadata": {},
   "outputs": [],
   "source": [
    "n_features = 6  # Number of financial indicators\n",
    "\n",
    "model = LSTMModel(input_dim=n_features, output_dim=n_features, hidden_dim=128, num_layers=3, dropout=0.3)\n",
    "model = model.to(device)"
   ]
  },
  {
   "cell_type": "code",
   "execution_count": 268,
   "metadata": {},
   "outputs": [
    {
     "name": "stdout",
     "output_type": "stream",
     "text": [
      "Epoch: 1, Loss: 1.0019244553802682\n",
      "Epoch: 2, Loss: 1.0014822931169607\n",
      "Epoch: 3, Loss: 1.0014180230150977\n",
      "Epoch: 4, Loss: 1.0013703686727895\n",
      "Epoch: 5, Loss: 1.001332090912963\n",
      "Epoch: 6, Loss: 1.0013260118824114\n",
      "Epoch: 7, Loss: 1.001292543659965\n",
      "Epoch: 8, Loss: 1.0013156393877893\n",
      "Epoch: 9, Loss: 1.0012685774470405\n",
      "Epoch: 10, Loss: 1.0012738117211157\n",
      "Epoch: 11, Loss: 1.0012632739200866\n",
      "Epoch: 12, Loss: 1.0012832123169797\n",
      "Epoch: 13, Loss: 1.001244543696479\n",
      "Epoch: 14, Loss: 1.0012080832351027\n",
      "Epoch: 15, Loss: 1.0012064944925925\n",
      "Epoch: 16, Loss: 1.001270151609997\n",
      "Epoch: 17, Loss: 1.0011175030427013\n",
      "Epoch: 18, Loss: 1.0010233302768186\n",
      "Epoch: 19, Loss: 1.0008878800079977\n",
      "Epoch: 20, Loss: 1.0008297622632638\n",
      "Epoch: 21, Loss: 1.0008177620043857\n",
      "Epoch: 22, Loss: 1.0000726936532438\n",
      "Epoch: 23, Loss: 1.0003028670660883\n",
      "Epoch: 24, Loss: 0.9989815547311907\n",
      "Epoch: 25, Loss: 0.9977351682220431\n",
      "Epoch: 26, Loss: 0.9957187049251666\n",
      "Epoch: 27, Loss: 0.9949471828320043\n",
      "Epoch: 28, Loss: 0.9909128218674831\n",
      "Epoch: 29, Loss: 0.9907103266647393\n",
      "Epoch: 30, Loss: 0.9876853257632084\n",
      "Epoch: 31, Loss: 0.9862076069811265\n",
      "Epoch: 32, Loss: 0.9806198400559185\n",
      "Epoch: 33, Loss: 0.9825242594849292\n",
      "Epoch: 34, Loss: 0.9806816061194852\n",
      "Epoch: 35, Loss: 0.9766360499876009\n",
      "Epoch: 36, Loss: 0.9683487929886193\n",
      "Epoch: 37, Loss: 0.967579579825024\n",
      "Epoch: 38, Loss: 0.9678118700603787\n",
      "Epoch: 39, Loss: 0.959033921253767\n",
      "Epoch: 40, Loss: 0.9544337531216711\n",
      "Epoch: 41, Loss: 0.9436781009752974\n",
      "Epoch: 42, Loss: 0.9369713994238874\n",
      "Epoch: 43, Loss: 0.9263975532363644\n",
      "Epoch: 44, Loss: 0.9219951940526208\n",
      "Epoch: 45, Loss: 0.9109812608296922\n",
      "Epoch: 46, Loss: 0.8910260817987455\n",
      "Epoch: 47, Loss: 0.8868696166457032\n",
      "Epoch: 48, Loss: 0.8717187799566941\n",
      "Epoch: 49, Loss: 0.8658408874230419\n",
      "Epoch: 50, Loss: 0.8809876769995518\n",
      "Epoch: 51, Loss: 0.8490622020025047\n",
      "Epoch: 52, Loss: 0.8322856458399793\n",
      "Epoch: 53, Loss: 0.8254902270629252\n",
      "Epoch: 54, Loss: 0.8095486734410842\n",
      "Epoch: 55, Loss: 0.8106210034528225\n",
      "Epoch: 56, Loss: 0.791007169931055\n",
      "Epoch: 57, Loss: 0.7791172615486941\n",
      "Epoch: 58, Loss: 0.7634393849390017\n",
      "Epoch: 59, Loss: 0.7578482295540597\n",
      "Epoch: 60, Loss: 0.7384058127729155\n",
      "Epoch: 61, Loss: 0.726177857719737\n",
      "Epoch: 62, Loss: 0.7152113489967455\n",
      "Epoch: 63, Loss: 0.704623165533697\n",
      "Epoch: 64, Loss: 0.6945992086431105\n",
      "Epoch: 65, Loss: 0.7021114013606696\n",
      "Epoch: 66, Loss: 0.657672543534272\n",
      "Epoch: 67, Loss: 0.6509231301091558\n",
      "Epoch: 68, Loss: 0.6394000966771901\n",
      "Epoch: 69, Loss: 0.6373747681542267\n",
      "Epoch: 70, Loss: 0.6098441477302167\n",
      "Epoch: 71, Loss: 0.6042649713780383\n",
      "Epoch: 72, Loss: 0.6135904827563883\n",
      "Epoch: 73, Loss: 0.6121432443531297\n",
      "Epoch: 74, Loss: 0.5721560650163418\n",
      "Epoch: 75, Loss: 0.556973209484018\n",
      "Epoch: 76, Loss: 0.5396265234235379\n",
      "Epoch: 77, Loss: 0.5493228602752411\n",
      "Epoch: 78, Loss: 0.5423871970219578\n",
      "Epoch: 79, Loss: 0.5317940233851508\n",
      "Epoch: 80, Loss: 0.5152707131003305\n",
      "Epoch: 81, Loss: 0.49587894954698547\n",
      "Epoch: 82, Loss: 0.5016113651527775\n",
      "Epoch: 83, Loss: 0.4953321760935749\n",
      "Epoch: 84, Loss: 0.48124793547091727\n",
      "Epoch: 85, Loss: 0.47014506643624615\n",
      "Epoch: 86, Loss: 0.46691427331605406\n",
      "Epoch: 87, Loss: 0.467564615414297\n",
      "Epoch: 88, Loss: 0.43902904213332444\n",
      "Epoch: 89, Loss: 0.43716500560156735\n",
      "Epoch: 90, Loss: 0.4240737767528287\n",
      "Epoch: 91, Loss: 0.43013045427610547\n",
      "Epoch: 92, Loss: 0.41394567178736486\n",
      "Epoch: 93, Loss: 0.4172041883571542\n",
      "Epoch: 94, Loss: 0.40699536262227476\n",
      "Epoch: 95, Loss: 0.3939822229335634\n",
      "Epoch: 96, Loss: 0.3977829127860584\n",
      "Epoch: 97, Loss: 0.385536151181022\n",
      "Epoch: 98, Loss: 0.3789607928596812\n",
      "Epoch: 99, Loss: 0.3772438449396504\n",
      "Epoch: 100, Loss: 0.383404084032388\n"
     ]
    }
   ],
   "source": [
    "criterion = nn.MSELoss()\n",
    "optimizer = optim.Adam(model.parameters(), lr=0.001)\n",
    "\n",
    "model.train()\n",
    "\n",
    "for epoch in range(100):\n",
    "\n",
    "    epoch_loss = 0\n",
    "\n",
    "    for data, target in dataloader_train:\n",
    "        output = model(data)\n",
    "        #print(f'output shae: {output.shape}')\n",
    "        loss = criterion(output, target)\n",
    "        optimizer.zero_grad()\n",
    "        loss.backward()\n",
    "        optimizer.step()\n",
    "        epoch_loss += loss.item()\n",
    "    \n",
    "    print(f\"Epoch: {epoch+1}, Loss: {epoch_loss / len(dataloader_train)}\")"
   ]
  },
  {
   "cell_type": "code",
   "execution_count": 269,
   "metadata": {},
   "outputs": [
    {
     "name": "stdout",
     "output_type": "stream",
     "text": [
      "Validation Loss: 1.468685269355774\n"
     ]
    }
   ],
   "source": [
    "model.eval()\n",
    "\n",
    "with torch.no_grad():\n",
    "\n",
    "    val_output = model(X_test)\n",
    "    val_loss = criterion(val_output, y_test)\n",
    "    print(f\"Validation Loss: {val_loss.item()}\")"
   ]
  },
  {
   "cell_type": "code",
   "execution_count": 270,
   "metadata": {},
   "outputs": [
    {
     "name": "stdout",
     "output_type": "stream",
     "text": [
      "Shapes: (20, 6), (20, 6)\n"
     ]
    }
   ],
   "source": [
    "true_unscaled = scaler_X.inverse_transform(y_test.reshape(-1, 6).cpu())[:20]\n",
    "predicted_unscaled = scaler_X.inverse_transform(val_output.reshape(-1, 6).cpu())[:20]\n",
    "print(f'Shapes: {true_unscaled.shape}, {predicted_unscaled.shape}')"
   ]
  },
  {
   "cell_type": "code",
   "execution_count": 272,
   "metadata": {},
   "outputs": [
    {
     "data": {
      "image/png": "[encoded data removed]",
      "text/plain": [
       "<Figure size 640x480 with 1 Axes>"
      ]
     },
     "metadata": {},
     "output_type": "display_data"
    }
   ],
   "source": [
    "x = [i for i in range(len(true_unscaled))]\n",
    "plt.plot(x, true_unscaled[:, 5], color='blue')\n",
    "plt.plot(x,predicted_unscaled[:, 5], color='red')\n",
    "plt.show()"
   ]
  }
 ],
 "metadata": {
  "kernelspec": {
   "display_name": "Python_venv",
   "language": "python",
   "name": "python3"
  },
  "language_info": {
   "codemirror_mode": {
    "name": "ipython",
    "version": 3
   },
   "file_extension": ".py",
   "mimetype": "text/x-python",
   "name": "python",
   "nbconvert_exporter": "python",
   "pygments_lexer": "ipython3",
   "version": "3.10.12"
  }
 },
 "nbformat": 4,
 "nbformat_minor": 2
}

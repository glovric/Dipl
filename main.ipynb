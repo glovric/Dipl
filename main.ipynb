{
 "cells": [
  {
   "cell_type": "code",
   "execution_count": 1,
   "metadata": {},
   "outputs": [],
   "source": [
    "import numpy as np # type: ignore\n",
    "import pandas as pd # type: ignore\n",
    "import matplotlib.pyplot as plt # type: ignore\n",
    "import yfinance as yf # type: ignore"
   ]
  },
  {
   "cell_type": "markdown",
   "metadata": {},
   "source": [
    "# Load financial data"
   ]
  },
  {
   "cell_type": "code",
   "execution_count": 2,
   "metadata": {},
   "outputs": [
    {
     "name": "stderr",
     "output_type": "stream",
     "text": [
      "[*********************100%***********************]  1 of 1 completed\n"
     ]
    }
   ],
   "source": [
    "data = yf.download('AAPL')"
   ]
  },
  {
   "cell_type": "code",
   "execution_count": 3,
   "metadata": {},
   "outputs": [
    {
     "data": {
      "text/html": [
       "<div>\n",
       "<style scoped>\n",
       "    .dataframe tbody tr th:only-of-type {\n",
       "        vertical-align: middle;\n",
       "    }\n",
       "\n",
       "    .dataframe tbody tr th {\n",
       "        vertical-align: top;\n",
       "    }\n",
       "\n",
       "    .dataframe thead tr th {\n",
       "        text-align: left;\n",
       "    }\n",
       "\n",
       "    .dataframe thead tr:last-of-type th {\n",
       "        text-align: right;\n",
       "    }\n",
       "</style>\n",
       "<table border=\"1\" class=\"dataframe\">\n",
       "  <thead>\n",
       "    <tr>\n",
       "      <th>Price</th>\n",
       "      <th>Adj Close</th>\n",
       "      <th>Close</th>\n",
       "      <th>High</th>\n",
       "      <th>Low</th>\n",
       "      <th>Open</th>\n",
       "      <th>Volume</th>\n",
       "    </tr>\n",
       "    <tr>\n",
       "      <th>Ticker</th>\n",
       "      <th>AAPL</th>\n",
       "      <th>AAPL</th>\n",
       "      <th>AAPL</th>\n",
       "      <th>AAPL</th>\n",
       "      <th>AAPL</th>\n",
       "      <th>AAPL</th>\n",
       "    </tr>\n",
       "    <tr>\n",
       "      <th>Date</th>\n",
       "      <th></th>\n",
       "      <th></th>\n",
       "      <th></th>\n",
       "      <th></th>\n",
       "      <th></th>\n",
       "      <th></th>\n",
       "    </tr>\n",
       "  </thead>\n",
       "  <tbody>\n",
       "    <tr>\n",
       "      <th>1980-12-12</th>\n",
       "      <td>0.098834</td>\n",
       "      <td>0.128348</td>\n",
       "      <td>0.128906</td>\n",
       "      <td>0.128348</td>\n",
       "      <td>0.128348</td>\n",
       "      <td>469033600</td>\n",
       "    </tr>\n",
       "    <tr>\n",
       "      <th>1980-12-15</th>\n",
       "      <td>0.093678</td>\n",
       "      <td>0.121652</td>\n",
       "      <td>0.122210</td>\n",
       "      <td>0.121652</td>\n",
       "      <td>0.122210</td>\n",
       "      <td>175884800</td>\n",
       "    </tr>\n",
       "    <tr>\n",
       "      <th>1980-12-16</th>\n",
       "      <td>0.086802</td>\n",
       "      <td>0.112723</td>\n",
       "      <td>0.113281</td>\n",
       "      <td>0.112723</td>\n",
       "      <td>0.113281</td>\n",
       "      <td>105728000</td>\n",
       "    </tr>\n",
       "    <tr>\n",
       "      <th>1980-12-17</th>\n",
       "      <td>0.088951</td>\n",
       "      <td>0.115513</td>\n",
       "      <td>0.116071</td>\n",
       "      <td>0.115513</td>\n",
       "      <td>0.115513</td>\n",
       "      <td>86441600</td>\n",
       "    </tr>\n",
       "    <tr>\n",
       "      <th>1980-12-18</th>\n",
       "      <td>0.091530</td>\n",
       "      <td>0.118862</td>\n",
       "      <td>0.119420</td>\n",
       "      <td>0.118862</td>\n",
       "      <td>0.118862</td>\n",
       "      <td>73449600</td>\n",
       "    </tr>\n",
       "  </tbody>\n",
       "</table>\n",
       "</div>"
      ],
      "text/plain": [
       "Price      Adj Close     Close      High       Low      Open     Volume\n",
       "Ticker          AAPL      AAPL      AAPL      AAPL      AAPL       AAPL\n",
       "Date                                                                   \n",
       "1980-12-12  0.098834  0.128348  0.128906  0.128348  0.128348  469033600\n",
       "1980-12-15  0.093678  0.121652  0.122210  0.121652  0.122210  175884800\n",
       "1980-12-16  0.086802  0.112723  0.113281  0.112723  0.113281  105728000\n",
       "1980-12-17  0.088951  0.115513  0.116071  0.115513  0.115513   86441600\n",
       "1980-12-18  0.091530  0.118862  0.119420  0.118862  0.118862   73449600"
      ]
     },
     "execution_count": 3,
     "metadata": {},
     "output_type": "execute_result"
    }
   ],
   "source": [
    "data.head()"
   ]
  },
  {
   "cell_type": "code",
   "execution_count": 4,
   "metadata": {},
   "outputs": [
    {
     "data": {
      "text/plain": [
       "(11089, 6)"
      ]
     },
     "execution_count": 4,
     "metadata": {},
     "output_type": "execute_result"
    }
   ],
   "source": [
    "X = data.to_numpy()\n",
    "X.shape"
   ]
  },
  {
   "cell_type": "code",
   "execution_count": 5,
   "metadata": {},
   "outputs": [],
   "source": [
    "def create_sequence(data: np.ndarray, seq_len: int = 8) -> tuple[np.ndarray, np.ndarray]:\n",
    "    X = []\n",
    "    y = []\n",
    "    for i in range(len(data) - seq_len):\n",
    "        X.append(data[i:i+seq_len])\n",
    "        y.append(data[i+seq_len])\n",
    "    return np.array(X), np.array(y)"
   ]
  },
  {
   "cell_type": "code",
   "execution_count": 6,
   "metadata": {},
   "outputs": [
    {
     "name": "stdout",
     "output_type": "stream",
     "text": [
      "Train: (8871, 6), Test: (2218, 6)\n"
     ]
    }
   ],
   "source": [
    "from sklearn.model_selection import train_test_split\n",
    "from sklearn.preprocessing import StandardScaler\n",
    "\n",
    "scaler_X = StandardScaler()\n",
    "\n",
    "X_train, X_test = train_test_split(X, test_size=0.2)\n",
    "\n",
    "X_train = scaler_X.fit_transform(X_train)\n",
    "X_test = scaler_X.transform(X_test)\n",
    "\n",
    "print(f'Train: {X_train.shape}, Test: {X_test.shape}')"
   ]
  },
  {
   "cell_type": "code",
   "execution_count": 7,
   "metadata": {},
   "outputs": [
    {
     "name": "stdout",
     "output_type": "stream",
     "text": [
      "X, y_train: (8863, 8, 6) (8863, 6)\n",
      "X, y_test: (2210, 8, 6) (2210, 6)\n"
     ]
    }
   ],
   "source": [
    "X_train, y_train = create_sequence(X_train)\n",
    "X_test, y_test = create_sequence(X_test)\n",
    "\n",
    "print(f'X, y_train: {X_train.shape} {y_train.shape}')\n",
    "print(f'X, y_test: {X_test.shape} {y_test.shape}')"
   ]
  },
  {
   "cell_type": "markdown",
   "metadata": {},
   "source": [
    "# Transformer"
   ]
  },
  {
   "cell_type": "code",
   "execution_count": 8,
   "metadata": {},
   "outputs": [
    {
     "data": {
      "text/plain": [
       "\"from torch_transformer import Transformer\\nimport torch\\n\\nsrc_vocab_size = 5000\\ntgt_vocab_size = 5000\\nd_model = 6\\nnum_heads = 3\\nnum_layers = 6\\nd_ff = 2048\\nmax_seq_length = 8\\ndropout = 0.1\\n\\n#device = 'cuda' if torch.cuda.is_available() else 'cpu'\\ndevice = 'cpu'\\nprint(f'Available device: {device}')\\n\\n#transformer = Transformer(src_vocab_size, tgt_vocab_size, d_model, num_heads, num_layers, d_ff, max_seq_length, dropout)\\n#transformer = transformer.to(device)\\n\\nX_train, X_test, y_train, y_test = torch.Tensor(X_train), torch.Tensor(X_test), torch.Tensor(y_train), torch.Tensor(y_test)\\nX_train, X_test, y_train, y_test = X_train.to(device), X_test.to(device), y_train.to(device), y_test.to(device)\\n\\n# Generate random sample data\\n#src_data = torch.randint(1, src_vocab_size, (64, max_seq_length)).to(device)  # (batch_size, seq_length)\\n#tgt_data = torch.randint(1, tgt_vocab_size, (64, max_seq_length)).to(device)  # (batch_size, seq_length)\""
      ]
     },
     "execution_count": 8,
     "metadata": {},
     "output_type": "execute_result"
    }
   ],
   "source": [
    "\"\"\"from torch_transformer import Transformer\n",
    "import torch\n",
    "\n",
    "src_vocab_size = 5000\n",
    "tgt_vocab_size = 5000\n",
    "d_model = 6\n",
    "num_heads = 3\n",
    "num_layers = 6\n",
    "d_ff = 2048\n",
    "max_seq_length = 8\n",
    "dropout = 0.1\n",
    "\n",
    "#device = 'cuda' if torch.cuda.is_available() else 'cpu'\n",
    "device = 'cpu'\n",
    "print(f'Available device: {device}')\n",
    "\n",
    "#transformer = Transformer(src_vocab_size, tgt_vocab_size, d_model, num_heads, num_layers, d_ff, max_seq_length, dropout)\n",
    "#transformer = transformer.to(device)\n",
    "\n",
    "X_train, X_test, y_train, y_test = torch.Tensor(X_train), torch.Tensor(X_test), torch.Tensor(y_train), torch.Tensor(y_test)\n",
    "X_train, X_test, y_train, y_test = X_train.to(device), X_test.to(device), y_train.to(device), y_test.to(device)\n",
    "\n",
    "# Generate random sample data\n",
    "#src_data = torch.randint(1, src_vocab_size, (64, max_seq_length)).to(device)  # (batch_size, seq_length)\n",
    "#tgt_data = torch.randint(1, tgt_vocab_size, (64, max_seq_length)).to(device)  # (batch_size, seq_length)\"\"\""
   ]
  },
  {
   "cell_type": "code",
   "execution_count": 9,
   "metadata": {},
   "outputs": [
    {
     "data": {
      "text/plain": [
       "'import torch.nn as nn\\nimport torch.optim as optim\\n\\ncriterion = nn.CrossEntropyLoss(ignore_index=0)\\noptimizer = optim.Adam(transformer.parameters(), lr=0.0001, betas=(0.9, 0.98), eps=1e-9)\\n\\ntransformer.train()\\n\\nfor epoch in range(100):\\n    optimizer.zero_grad()\\n    output = transformer(X_train, y_train)\\n    loss = criterion(output.contiguous().view(-1, tgt_vocab_size), y_train[:, 1:].contiguous().view(-1))\\n    loss.backward()\\n    optimizer.step()\\n    print(f\"Epoch: {epoch+1}, Loss: {loss.item()}\")'"
      ]
     },
     "execution_count": 9,
     "metadata": {},
     "output_type": "execute_result"
    }
   ],
   "source": [
    "\"\"\"import torch.nn as nn\n",
    "import torch.optim as optim\n",
    "\n",
    "criterion = nn.CrossEntropyLoss(ignore_index=0)\n",
    "optimizer = optim.Adam(transformer.parameters(), lr=0.0001, betas=(0.9, 0.98), eps=1e-9)\n",
    "\n",
    "transformer.train()\n",
    "\n",
    "for epoch in range(100):\n",
    "    optimizer.zero_grad()\n",
    "    output = transformer(X_train, y_train)\n",
    "    loss = criterion(output.contiguous().view(-1, tgt_vocab_size), y_train[:, 1:].contiguous().view(-1))\n",
    "    loss.backward()\n",
    "    optimizer.step()\n",
    "    print(f\"Epoch: {epoch+1}, Loss: {loss.item()}\")\"\"\""
   ]
  },
  {
   "cell_type": "code",
   "execution_count": 10,
   "metadata": {},
   "outputs": [
    {
     "data": {
      "text/plain": [
       "'transformer.eval()\\n\\n# Generate random sample validation data\\n#val_src_data = torch.randint(1, src_vocab_size, (64, max_seq_length)).to(device)  # (batch_size, seq_length)\\n#val_tgt_data = torch.randint(1, tgt_vocab_size, (64, max_seq_length)).to(device)  # (batch_size, seq_length)\\n\\nwith torch.no_grad():\\n\\n    val_output = transformer(X_test, y_test)\\n    val_loss = criterion(val_output.contiguous().view(-1, tgt_vocab_size), y_test.contiguous().view(-1))\\n    print(f\"Validation Loss: {val_loss.item()}\")'"
      ]
     },
     "execution_count": 10,
     "metadata": {},
     "output_type": "execute_result"
    }
   ],
   "source": [
    "\"\"\"transformer.eval()\n",
    "\n",
    "# Generate random sample validation data\n",
    "#val_src_data = torch.randint(1, src_vocab_size, (64, max_seq_length)).to(device)  # (batch_size, seq_length)\n",
    "#val_tgt_data = torch.randint(1, tgt_vocab_size, (64, max_seq_length)).to(device)  # (batch_size, seq_length)\n",
    "\n",
    "with torch.no_grad():\n",
    "\n",
    "    val_output = transformer(X_test, y_test)\n",
    "    val_loss = criterion(val_output.contiguous().view(-1, tgt_vocab_size), y_test.contiguous().view(-1))\n",
    "    print(f\"Validation Loss: {val_loss.item()}\")\"\"\""
   ]
  },
  {
   "cell_type": "markdown",
   "metadata": {},
   "source": [
    "# Encoder only Transformer"
   ]
  },
  {
   "cell_type": "code",
   "execution_count": 14,
   "metadata": {},
   "outputs": [],
   "source": [
    "from torch_fin_transformer import FinancialTransformer\n",
    "import torch\n",
    "\n",
    "batch_size = 1\n",
    "seq_len = 8\n",
    "n_features = 6  # Number of financial indicators\n",
    "\n",
    "device = 'cuda' if torch.cuda.is_available() else 'cpu'\n",
    "\n",
    "# Create model instance\n",
    "model = FinancialTransformer(d_model=n_features, n_heads=8, d_ff=2048, n_enc_layers=3, n_features=n_features)\n",
    "model = model.to(device)\n",
    "\n",
    "X_train, X_test, y_train, y_test = torch.Tensor(X_train), torch.Tensor(X_test), torch.Tensor(y_train), torch.Tensor(y_test)\n",
    "X_train, X_test, y_train, y_test = X_train.to(device), X_test.to(device), y_train.to(device), y_test.to(device)"
   ]
  },
  {
   "cell_type": "code",
   "execution_count": 15,
   "metadata": {},
   "outputs": [
    {
     "name": "stdout",
     "output_type": "stream",
     "text": [
      "Epoch: 1, Loss: 1.190137267112732\n",
      "Epoch: 2, Loss: 1.387156367301941\n",
      "Epoch: 3, Loss: 1.1966307163238525\n",
      "Epoch: 4, Loss: 1.0912946462631226\n",
      "Epoch: 5, Loss: 1.0628225803375244\n",
      "Epoch: 6, Loss: 1.0613901615142822\n",
      "Epoch: 7, Loss: 1.0580413341522217\n",
      "Epoch: 8, Loss: 1.0491029024124146\n",
      "Epoch: 9, Loss: 1.0368047952651978\n",
      "Epoch: 10, Loss: 1.0259593725204468\n",
      "Epoch: 11, Loss: 1.0179976224899292\n",
      "Epoch: 12, Loss: 1.012902021408081\n",
      "Epoch: 13, Loss: 1.009433627128601\n",
      "Epoch: 14, Loss: 1.007188320159912\n",
      "Epoch: 15, Loss: 1.0058451890945435\n",
      "Epoch: 16, Loss: 1.004948616027832\n",
      "Epoch: 17, Loss: 1.004611849784851\n",
      "Epoch: 18, Loss: 1.004868507385254\n",
      "Epoch: 19, Loss: 1.005079746246338\n",
      "Epoch: 20, Loss: 1.0053962469100952\n",
      "Epoch: 21, Loss: 1.0055959224700928\n",
      "Epoch: 22, Loss: 1.005725622177124\n",
      "Epoch: 23, Loss: 1.0053038597106934\n",
      "Epoch: 24, Loss: 1.0047237873077393\n",
      "Epoch: 25, Loss: 1.0038981437683105\n",
      "Epoch: 26, Loss: 1.003066062927246\n",
      "Epoch: 27, Loss: 1.0023550987243652\n",
      "Epoch: 28, Loss: 1.0017704963684082\n",
      "Epoch: 29, Loss: 1.0012691020965576\n",
      "Epoch: 30, Loss: 1.0010557174682617\n",
      "Epoch: 31, Loss: 1.0007686614990234\n",
      "Epoch: 32, Loss: 1.0006389617919922\n",
      "Epoch: 33, Loss: 1.0006260871887207\n",
      "Epoch: 34, Loss: 1.0005284547805786\n",
      "Epoch: 35, Loss: 1.0004751682281494\n",
      "Epoch: 36, Loss: 1.0003975629806519\n",
      "Epoch: 37, Loss: 1.000357747077942\n",
      "Epoch: 38, Loss: 1.000327229499817\n",
      "Epoch: 39, Loss: 1.000374674797058\n",
      "Epoch: 40, Loss: 1.0003215074539185\n",
      "Epoch: 41, Loss: 1.000280499458313\n",
      "Epoch: 42, Loss: 1.0003563165664673\n",
      "Epoch: 43, Loss: 1.000339388847351\n",
      "Epoch: 44, Loss: 1.0003936290740967\n",
      "Epoch: 45, Loss: 1.0003501176834106\n",
      "Epoch: 46, Loss: 1.0002282857894897\n",
      "Epoch: 47, Loss: 1.0001788139343262\n",
      "Epoch: 48, Loss: 1.0001070499420166\n",
      "Epoch: 49, Loss: 1.0000320672988892\n",
      "Epoch: 50, Loss: 0.9999756217002869\n",
      "Epoch: 51, Loss: 0.9999198317527771\n",
      "Epoch: 52, Loss: 0.9999544024467468\n",
      "Epoch: 53, Loss: 0.9999098181724548\n",
      "Epoch: 54, Loss: 0.9998438358306885\n",
      "Epoch: 55, Loss: 0.9999580979347229\n",
      "Epoch: 56, Loss: 0.9999335408210754\n",
      "Epoch: 57, Loss: 0.9999980926513672\n",
      "Epoch: 58, Loss: 1.0000381469726562\n",
      "Epoch: 59, Loss: 0.9999474287033081\n",
      "Epoch: 60, Loss: 0.9999829530715942\n",
      "Epoch: 61, Loss: 0.9999526739120483\n",
      "Epoch: 62, Loss: 1.0000437498092651\n",
      "Epoch: 63, Loss: 0.9999665021896362\n",
      "Epoch: 64, Loss: 0.9999507069587708\n",
      "Epoch: 65, Loss: 0.9999368190765381\n",
      "Epoch: 66, Loss: 0.9998850226402283\n",
      "Epoch: 67, Loss: 0.9999008178710938\n",
      "Epoch: 68, Loss: 0.9998109936714172\n",
      "Epoch: 69, Loss: 0.9998082518577576\n",
      "Epoch: 70, Loss: 0.9999105334281921\n",
      "Epoch: 71, Loss: 0.9998551607131958\n",
      "Epoch: 72, Loss: 0.9998126029968262\n",
      "Epoch: 73, Loss: 0.9998020529747009\n",
      "Epoch: 74, Loss: 0.9998708367347717\n",
      "Epoch: 75, Loss: 0.9999253749847412\n",
      "Epoch: 76, Loss: 0.9998543858528137\n",
      "Epoch: 77, Loss: 0.9998713135719299\n",
      "Epoch: 78, Loss: 0.9998400807380676\n",
      "Epoch: 79, Loss: 0.9998899698257446\n",
      "Epoch: 80, Loss: 0.9998392462730408\n",
      "Epoch: 81, Loss: 0.9998233318328857\n",
      "Epoch: 82, Loss: 0.9999364018440247\n",
      "Epoch: 83, Loss: 0.9998733401298523\n",
      "Epoch: 84, Loss: 0.9998344779014587\n",
      "Epoch: 85, Loss: 0.9998748898506165\n",
      "Epoch: 86, Loss: 0.9997875094413757\n",
      "Epoch: 87, Loss: 0.9998668432235718\n",
      "Epoch: 88, Loss: 0.9998292922973633\n",
      "Epoch: 89, Loss: 0.9998313188552856\n",
      "Epoch: 90, Loss: 0.9998855590820312\n",
      "Epoch: 91, Loss: 0.9998552799224854\n",
      "Epoch: 92, Loss: 0.999899685382843\n",
      "Epoch: 93, Loss: 0.999812662601471\n",
      "Epoch: 94, Loss: 0.9999039173126221\n",
      "Epoch: 95, Loss: 0.9998223781585693\n",
      "Epoch: 96, Loss: 0.999843180179596\n",
      "Epoch: 97, Loss: 0.9997869729995728\n",
      "Epoch: 98, Loss: 0.9999626874923706\n",
      "Epoch: 99, Loss: 0.9998567700386047\n",
      "Epoch: 100, Loss: 0.9998829364776611\n"
     ]
    }
   ],
   "source": [
    "import torch.nn as nn\n",
    "import torch.optim as optim\n",
    "\n",
    "criterion = nn.MSELoss()\n",
    "optimizer = optim.Adam(model.parameters(), lr=0.001, betas=(0.9, 0.98), eps=1e-9)\n",
    "\n",
    "#output = model(X_train)\n",
    "#print(f'output: {output.shape}, y: {y_train.shape}')\n",
    "\n",
    "model.train()\n",
    "\n",
    "for epoch in range(100):\n",
    "    optimizer.zero_grad()\n",
    "    output = model(X_train)\n",
    "    loss = criterion(output, y_train)\n",
    "    loss.backward()\n",
    "    optimizer.step()\n",
    "    print(f\"Epoch: {epoch+1}, Loss: {loss.item()}\")"
   ]
  },
  {
   "cell_type": "code",
   "execution_count": 16,
   "metadata": {},
   "outputs": [
    {
     "name": "stdout",
     "output_type": "stream",
     "text": [
      "Validation Loss: 0.9868223071098328\n"
     ]
    }
   ],
   "source": [
    "model.eval()\n",
    "\n",
    "# Generate random sample validation data\n",
    "#val_src_data = torch.randint(1, src_vocab_size, (64, max_seq_length)).to(device)  # (batch_size, seq_length)\n",
    "#val_tgt_data = torch.randint(1, tgt_vocab_size, (64, max_seq_length)).to(device)  # (batch_size, seq_length)\n",
    "\n",
    "with torch.no_grad():\n",
    "\n",
    "    val_output = model(X_test)\n",
    "    val_loss = criterion(val_output, y_test)\n",
    "    print(f\"Validation Loss: {val_loss.item()}\")"
   ]
  },
  {
   "cell_type": "code",
   "execution_count": 24,
   "metadata": {},
   "outputs": [
    {
     "name": "stdout",
     "output_type": "stream",
     "text": [
      "Shapes: (20, 6), (20, 6)\n"
     ]
    }
   ],
   "source": [
    "true_unscaled = scaler_X.inverse_transform(y_test.cpu())[:20]\n",
    "predicted_unscaled = scaler_X.inverse_transform(val_output.cpu())[:20]\n",
    "print(f'Shapes: {true_unscaled.shape}, {predicted_unscaled.shape}')"
   ]
  },
  {
   "cell_type": "code",
   "execution_count": 27,
   "metadata": {},
   "outputs": [
    {
     "data": {
      "image/png": "[encoded data removed]",
      "text/plain": [
       "<Figure size 640x480 with 1 Axes>"
      ]
     },
     "metadata": {},
     "output_type": "display_data"
    }
   ],
   "source": [
    "x = [i for i in range(len(true_unscaled))]\n",
    "plt.plot(x, true_unscaled[:, 3], color='blue')\n",
    "plt.plot(x,predicted_unscaled[:, 3], color='red')\n",
    "plt.show()"
   ]
  }
 ],
 "metadata": {
  "kernelspec": {
   "display_name": "Python_venv",
   "language": "python",
   "name": "python3"
  },
  "language_info": {
   "codemirror_mode": {
    "name": "ipython",
    "version": 3
   },
   "file_extension": ".py",
   "mimetype": "text/x-python",
   "name": "python",
   "nbconvert_exporter": "python",
   "pygments_lexer": "ipython3",
   "version": "3.11.4"
  }
 },
 "nbformat": 4,
 "nbformat_minor": 2
}
